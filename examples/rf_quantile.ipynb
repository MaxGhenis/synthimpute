{
 "cells": [
  {
   "cell_type": "markdown",
   "metadata": {},
   "source": [
    "# `rf_quantile` demo\n",
    "\n",
    "Predict conditional quantiles of a variable using the `rf_quantile` function.\n",
    "\n",
    "## Setup"
   ]
  },
  {
   "cell_type": "code",
   "execution_count": 1,
   "metadata": {},
   "outputs": [],
   "source": [
    "import synthimpute as si\n",
    "from sklearn import ensemble\n",
    "import pandas as pd\n",
    "import numpy as np"
   ]
  },
  {
   "cell_type": "markdown",
   "metadata": {},
   "source": [
    "## Generate data"
   ]
  },
  {
   "cell_type": "code",
   "execution_count": 2,
   "metadata": {},
   "outputs": [
    {
     "data": {
      "text/plain": [
       "RandomForestRegressor(bootstrap=True, ccp_alpha=0.0, criterion='mse',\n",
       "                      max_depth=None, max_features='auto', max_leaf_nodes=None,\n",
       "                      max_samples=None, min_impurity_decrease=0.0,\n",
       "                      min_impurity_split=None, min_samples_leaf=1,\n",
       "                      min_samples_split=2, min_weight_fraction_leaf=0.0,\n",
       "                      n_estimators=100, n_jobs=None, oob_score=False,\n",
       "                      random_state=3, verbose=0, warm_start=False)"
      ]
     },
     "execution_count": 2,
     "metadata": {},
     "output_type": "execute_result"
    }
   ],
   "source": [
    "N = 1000\n",
    "x = pd.DataFrame({'x1': np.random.randn(N),\n",
    "                  'x2': np.random.randn(N)})\n",
    "# Construct example relationship.\n",
    "y = x.x1 + np.power(x.x2, 3) + np.random.randn(N)\n",
    "rf = ensemble.RandomForestRegressor(random_state=3)\n",
    "rf.fit(x, y)"
   ]
  },
  {
   "cell_type": "code",
   "execution_count": null,
   "metadata": {},
   "outputs": [],
   "source": [
    "def rf_impute(x_train, y_train, x_new, x_cols=None, random_state=None):\n",
    "    \"\"\"Impute labels from a training set to a new data set using \n",
    "       random forests quantile regression.\n",
    "       \n",
    "    Args:\n",
    "        x_train: Training data.\n",
    "        y_train: Training labels.\n",
    "        x_new: New x data for which imputed labels are generated.\n",
    "        x_cols: List of columns to use. If not provided, uses all columns from\n",
    "            x_train (these must also be in x_new).\n",
    "        random_state: Optional random seed passed to RandomForestRegressor and\n",
    "            for uniform distribution of quantiles.\n",
    "        \n",
    "    Returns:\n",
    "        Imputed labels for new_x.\n",
    "    \"\"\"\n",
    "    rf = ensemble.RandomForestRegressor(random_state=random_state)\n",
    "    rf.fit(x_train, y_train)\n",
    "    if random_state is not None:\n",
    "        np.random.seed(random_state)\n",
    "    quantiles = np.random.rand(y_train.size)  # Uniform distribution.\n",
    "    return si.rf_quantile(rf, x, quantiles)"
   ]
  },
  {
   "cell_type": "code",
   "execution_count": 19,
   "metadata": {},
   "outputs": [
    {
     "data": {
      "text/plain": [
       "RandomForestRegressor(bootstrap=True, ccp_alpha=0.0, criterion='mse',\n",
       "                      max_depth=None, max_features='auto', max_leaf_nodes=None,\n",
       "                      max_samples=None, min_impurity_decrease=0.0,\n",
       "                      min_impurity_split=None, min_samples_leaf=1,\n",
       "                      min_samples_split=2, min_weight_fraction_leaf=0.0,\n",
       "                      n_estimators=100, n_jobs=None, oob_score=False,\n",
       "                      random_state=10, verbose=0, warm_start=False)"
      ]
     },
     "execution_count": 19,
     "metadata": {},
     "output_type": "execute_result"
    }
   ],
   "source": [
    "ensemble.RandomForestRegressor(random_state=10)"
   ]
  },
  {
   "cell_type": "code",
   "execution_count": 3,
   "metadata": {},
   "outputs": [
    {
     "data": {
      "text/plain": [
       "1000"
      ]
     },
     "execution_count": 3,
     "metadata": {},
     "output_type": "execute_result"
    }
   ],
   "source": [
    "si.rf_quantile(rf, x, 0.5).size"
   ]
  }
 ],
 "metadata": {
  "kernelspec": {
   "display_name": "Python 3",
   "language": "python",
   "name": "python3"
  },
  "language_info": {
   "codemirror_mode": {
    "name": "ipython",
    "version": 3
   },
   "file_extension": ".py",
   "mimetype": "text/x-python",
   "name": "python",
   "nbconvert_exporter": "python",
   "pygments_lexer": "ipython3",
   "version": "3.7.5"
  }
 },
 "nbformat": 4,
 "nbformat_minor": 2
}
