{
 "cells": [
  {
   "cell_type": "markdown",
   "metadata": {},
   "source": [
    "# `nearest_synth_train_test` example\n",
    "\n",
    "For `synthimpute` package. Uses the `mpg` sample dataset."
   ]
  },
  {
   "cell_type": "markdown",
   "metadata": {},
   "source": [
    "## Setup"
   ]
  },
  {
   "cell_type": "code",
   "execution_count": 1,
   "metadata": {},
   "outputs": [],
   "source": [
    "import synthimpute as si\n",
    "import pandas as pd\n",
    "import numpy as np\n",
    "from scipy.spatial.distance import euclidean\n",
    "from sklearn.model_selection import train_test_split"
   ]
  },
  {
   "cell_type": "code",
   "execution_count": 2,
   "metadata": {},
   "outputs": [],
   "source": [
    "mpg = pd.read_csv('https://raw.githubusercontent.com/mwaskom/seaborn-data/master/mpg.csv')\n",
    "# Drop class columns and sometimes-missing horsepower.\n",
    "mpg.drop(['origin', 'name', 'horsepower'], axis=1, inplace=True)"
   ]
  },
  {
   "cell_type": "code",
   "execution_count": 3,
   "metadata": {},
   "outputs": [],
   "source": [
    "train, test = train_test_split(mpg, test_size=0.5, random_state=0)\n",
    "train.reset_index(inplace=True)\n",
    "test.reset_index(inplace=True)"
   ]
  },
  {
   "cell_type": "markdown",
   "metadata": {},
   "source": [
    "## Synthesize"
   ]
  },
  {
   "cell_type": "code",
   "execution_count": 4,
   "metadata": {},
   "outputs": [
    {
     "name": "stdout",
     "output_type": "stream",
     "text": [
      "Synthesizing feature 1 of 6: weight...\n",
      "Synthesizing feature 2 of 6: index...\n",
      "Synthesizing feature 3 of 6: displacement...\n",
      "Synthesizing feature 4 of 6: acceleration...\n",
      "Synthesizing feature 5 of 6: model_year...\n",
      "Synthesizing feature 6 of 6: mpg...\n"
     ]
    }
   ],
   "source": [
    "synth = si.rf_synth(train, ['cylinders'], random_state=0)[train.columns]"
   ]
  },
  {
   "cell_type": "markdown",
   "metadata": {},
   "source": [
    "## `nearest_synth_train_test`"
   ]
  },
  {
   "cell_type": "markdown",
   "metadata": {},
   "source": [
    "### Scaled\n",
    "\n",
    "By default, `nearest_synth_train_test` scales the `train` and `test` set with respect to `synth`."
   ]
  },
  {
   "cell_type": "code",
   "execution_count": 5,
   "metadata": {},
   "outputs": [
    {
     "name": "stdout",
     "output_type": "stream",
     "text": [
      "Calculating nearest records to training set...\n",
      "Calculating nearest records to test set...\n"
     ]
    },
    {
     "data": {
      "text/html": [
       "<div>\n",
       "<style scoped>\n",
       "    .dataframe tbody tr th:only-of-type {\n",
       "        vertical-align: middle;\n",
       "    }\n",
       "\n",
       "    .dataframe tbody tr th {\n",
       "        vertical-align: top;\n",
       "    }\n",
       "\n",
       "    .dataframe thead th {\n",
       "        text-align: right;\n",
       "    }\n",
       "</style>\n",
       "<table border=\"1\" class=\"dataframe\">\n",
       "  <thead>\n",
       "    <tr style=\"text-align: right;\">\n",
       "      <th></th>\n",
       "      <th>synth_id</th>\n",
       "      <th>train_id</th>\n",
       "      <th>train_dist</th>\n",
       "      <th>test_id</th>\n",
       "      <th>test_dist</th>\n",
       "      <th>dist_diff</th>\n",
       "      <th>dist_ratio</th>\n",
       "    </tr>\n",
       "  </thead>\n",
       "  <tbody>\n",
       "    <tr>\n",
       "      <th>0</th>\n",
       "      <td>0</td>\n",
       "      <td>92</td>\n",
       "      <td>0.197639</td>\n",
       "      <td>162</td>\n",
       "      <td>1.444015</td>\n",
       "      <td>-1.246375</td>\n",
       "      <td>0.136868</td>\n",
       "    </tr>\n",
       "    <tr>\n",
       "      <th>1</th>\n",
       "      <td>1</td>\n",
       "      <td>84</td>\n",
       "      <td>0.002391</td>\n",
       "      <td>80</td>\n",
       "      <td>0.414749</td>\n",
       "      <td>-0.412358</td>\n",
       "      <td>0.005765</td>\n",
       "    </tr>\n",
       "    <tr>\n",
       "      <th>2</th>\n",
       "      <td>2</td>\n",
       "      <td>177</td>\n",
       "      <td>0.498632</td>\n",
       "      <td>27</td>\n",
       "      <td>0.361559</td>\n",
       "      <td>0.137073</td>\n",
       "      <td>1.379116</td>\n",
       "    </tr>\n",
       "    <tr>\n",
       "      <th>3</th>\n",
       "      <td>3</td>\n",
       "      <td>121</td>\n",
       "      <td>0.303821</td>\n",
       "      <td>121</td>\n",
       "      <td>0.380731</td>\n",
       "      <td>-0.076910</td>\n",
       "      <td>0.797993</td>\n",
       "    </tr>\n",
       "    <tr>\n",
       "      <th>4</th>\n",
       "      <td>4</td>\n",
       "      <td>48</td>\n",
       "      <td>0.274674</td>\n",
       "      <td>67</td>\n",
       "      <td>0.463127</td>\n",
       "      <td>-0.188453</td>\n",
       "      <td>0.593085</td>\n",
       "    </tr>\n",
       "  </tbody>\n",
       "</table>\n",
       "</div>"
      ],
      "text/plain": [
       "   synth_id  train_id  train_dist  test_id  test_dist  dist_diff  dist_ratio\n",
       "0         0        92    0.197639      162   1.444015  -1.246375    0.136868\n",
       "1         1        84    0.002391       80   0.414749  -0.412358    0.005765\n",
       "2         2       177    0.498632       27   0.361559   0.137073    1.379116\n",
       "3         3       121    0.303821      121   0.380731  -0.076910    0.797993\n",
       "4         4        48    0.274674       67   0.463127  -0.188453    0.593085"
      ]
     },
     "execution_count": 5,
     "metadata": {},
     "output_type": "execute_result"
    }
   ],
   "source": [
    "nearest = si.nearest_synth_train_test(synth, train, test)\n",
    "nearest.head()"
   ]
  },
  {
   "cell_type": "markdown",
   "metadata": {},
   "source": [
    "### Unscaled\n",
    "\n",
    "To validate against `euclidean()`. Results differ a bit from the scaled version."
   ]
  },
  {
   "cell_type": "code",
   "execution_count": 6,
   "metadata": {},
   "outputs": [
    {
     "name": "stdout",
     "output_type": "stream",
     "text": [
      "Calculating nearest records to training set...\n",
      "Calculating nearest records to test set...\n"
     ]
    },
    {
     "data": {
      "text/html": [
       "<div>\n",
       "<style scoped>\n",
       "    .dataframe tbody tr th:only-of-type {\n",
       "        vertical-align: middle;\n",
       "    }\n",
       "\n",
       "    .dataframe tbody tr th {\n",
       "        vertical-align: top;\n",
       "    }\n",
       "\n",
       "    .dataframe thead th {\n",
       "        text-align: right;\n",
       "    }\n",
       "</style>\n",
       "<table border=\"1\" class=\"dataframe\">\n",
       "  <thead>\n",
       "    <tr style=\"text-align: right;\">\n",
       "      <th></th>\n",
       "      <th>synth_id</th>\n",
       "      <th>train_id</th>\n",
       "      <th>train_dist</th>\n",
       "      <th>test_id</th>\n",
       "      <th>test_dist</th>\n",
       "      <th>dist_diff</th>\n",
       "      <th>dist_ratio</th>\n",
       "    </tr>\n",
       "  </thead>\n",
       "  <tbody>\n",
       "    <tr>\n",
       "      <th>0</th>\n",
       "      <td>0</td>\n",
       "      <td>92</td>\n",
       "      <td>6.097228</td>\n",
       "      <td>14</td>\n",
       "      <td>94.246709</td>\n",
       "      <td>-88.149481</td>\n",
       "      <td>0.064694</td>\n",
       "    </tr>\n",
       "    <tr>\n",
       "      <th>1</th>\n",
       "      <td>1</td>\n",
       "      <td>84</td>\n",
       "      <td>2.026717</td>\n",
       "      <td>179</td>\n",
       "      <td>33.882159</td>\n",
       "      <td>-31.855442</td>\n",
       "      <td>0.059817</td>\n",
       "    </tr>\n",
       "    <tr>\n",
       "      <th>2</th>\n",
       "      <td>2</td>\n",
       "      <td>74</td>\n",
       "      <td>3.501353</td>\n",
       "      <td>126</td>\n",
       "      <td>28.379739</td>\n",
       "      <td>-24.878386</td>\n",
       "      <td>0.123375</td>\n",
       "    </tr>\n",
       "    <tr>\n",
       "      <th>3</th>\n",
       "      <td>3</td>\n",
       "      <td>74</td>\n",
       "      <td>21.737288</td>\n",
       "      <td>126</td>\n",
       "      <td>34.526932</td>\n",
       "      <td>-12.789644</td>\n",
       "      <td>0.629575</td>\n",
       "    </tr>\n",
       "    <tr>\n",
       "      <th>4</th>\n",
       "      <td>4</td>\n",
       "      <td>48</td>\n",
       "      <td>18.631348</td>\n",
       "      <td>169</td>\n",
       "      <td>41.085382</td>\n",
       "      <td>-22.454034</td>\n",
       "      <td>0.453479</td>\n",
       "    </tr>\n",
       "  </tbody>\n",
       "</table>\n",
       "</div>"
      ],
      "text/plain": [
       "   synth_id  train_id  train_dist  test_id  test_dist  dist_diff  dist_ratio\n",
       "0         0        92    6.097228       14  94.246709 -88.149481    0.064694\n",
       "1         1        84    2.026717      179  33.882159 -31.855442    0.059817\n",
       "2         2        74    3.501353      126  28.379739 -24.878386    0.123375\n",
       "3         3        74   21.737288      126  34.526932 -12.789644    0.629575\n",
       "4         4        48   18.631348      169  41.085382 -22.454034    0.453479"
      ]
     },
     "execution_count": 6,
     "metadata": {},
     "output_type": "execute_result"
    }
   ],
   "source": [
    "nearest_unscaled = si.nearest_synth_train_test(synth, train, test, scale=False)\n",
    "nearest_unscaled.head()"
   ]
  },
  {
   "cell_type": "code",
   "execution_count": 7,
   "metadata": {},
   "outputs": [
    {
     "data": {
      "text/html": [
       "<div>\n",
       "<style scoped>\n",
       "    .dataframe tbody tr th:only-of-type {\n",
       "        vertical-align: middle;\n",
       "    }\n",
       "\n",
       "    .dataframe tbody tr th {\n",
       "        vertical-align: top;\n",
       "    }\n",
       "\n",
       "    .dataframe thead th {\n",
       "        text-align: right;\n",
       "    }\n",
       "</style>\n",
       "<table border=\"1\" class=\"dataframe\">\n",
       "  <thead>\n",
       "    <tr style=\"text-align: right;\">\n",
       "      <th></th>\n",
       "      <th>id_A</th>\n",
       "      <th>id_B</th>\n",
       "      <th>dist</th>\n",
       "    </tr>\n",
       "  </thead>\n",
       "  <tbody>\n",
       "    <tr>\n",
       "      <th>0</th>\n",
       "      <td>0</td>\n",
       "      <td>92</td>\n",
       "      <td>6.097228</td>\n",
       "    </tr>\n",
       "    <tr>\n",
       "      <th>1</th>\n",
       "      <td>1</td>\n",
       "      <td>84</td>\n",
       "      <td>2.026717</td>\n",
       "    </tr>\n",
       "    <tr>\n",
       "      <th>2</th>\n",
       "      <td>2</td>\n",
       "      <td>74</td>\n",
       "      <td>3.501353</td>\n",
       "    </tr>\n",
       "    <tr>\n",
       "      <th>3</th>\n",
       "      <td>3</td>\n",
       "      <td>74</td>\n",
       "      <td>21.737288</td>\n",
       "    </tr>\n",
       "    <tr>\n",
       "      <th>4</th>\n",
       "      <td>4</td>\n",
       "      <td>48</td>\n",
       "      <td>18.631348</td>\n",
       "    </tr>\n",
       "  </tbody>\n",
       "</table>\n",
       "</div>"
      ],
      "text/plain": [
       "   id_A  id_B       dist\n",
       "0     0    92   6.097228\n",
       "1     1    84   2.026717\n",
       "2     2    74   3.501353\n",
       "3     3    74  21.737288\n",
       "4     4    48  18.631348"
      ]
     },
     "execution_count": 7,
     "metadata": {},
     "output_type": "execute_result"
    }
   ],
   "source": [
    "nearest_train = si.nearest_record(synth, train)\n",
    "nearest_train.head()"
   ]
  },
  {
   "cell_type": "markdown",
   "metadata": {},
   "source": [
    "Verify that `dist` matches `euclidean()`."
   ]
  },
  {
   "cell_type": "code",
   "execution_count": 8,
   "metadata": {},
   "outputs": [
    {
     "data": {
      "text/plain": [
       "6.097227834440599"
      ]
     },
     "execution_count": 8,
     "metadata": {},
     "output_type": "execute_result"
    }
   ],
   "source": [
    "euclidean(synth.loc[0], train.loc[int(nearest_train.iloc[0].id_B)])"
   ]
  },
  {
   "cell_type": "markdown",
   "metadata": {},
   "source": [
    "## `nearest_synth_train_test_record`"
   ]
  },
  {
   "cell_type": "code",
   "execution_count": 9,
   "metadata": {},
   "outputs": [
    {
     "name": "stdout",
     "output_type": "stream",
     "text": [
      "Synthetic record 0 is closest to training record 92 (distance=0.2) and closest to test record 162 (distance=1.44).\n"
     ]
    },
    {
     "data": {
      "text/html": [
       "<div>\n",
       "<style scoped>\n",
       "    .dataframe tbody tr th:only-of-type {\n",
       "        vertical-align: middle;\n",
       "    }\n",
       "\n",
       "    .dataframe tbody tr th {\n",
       "        vertical-align: top;\n",
       "    }\n",
       "\n",
       "    .dataframe thead th {\n",
       "        text-align: right;\n",
       "    }\n",
       "</style>\n",
       "<table border=\"1\" class=\"dataframe\">\n",
       "  <thead>\n",
       "    <tr style=\"text-align: right;\">\n",
       "      <th></th>\n",
       "      <th>train</th>\n",
       "      <th>synth</th>\n",
       "      <th>test</th>\n",
       "    </tr>\n",
       "  </thead>\n",
       "  <tbody>\n",
       "    <tr>\n",
       "      <th>acceleration</th>\n",
       "      <td>19.0</td>\n",
       "      <td>19.000000</td>\n",
       "      <td>19.0</td>\n",
       "    </tr>\n",
       "    <tr>\n",
       "      <th>cylinders</th>\n",
       "      <td>8.0</td>\n",
       "      <td>8.000000</td>\n",
       "      <td>6.0</td>\n",
       "    </tr>\n",
       "    <tr>\n",
       "      <th>displacement</th>\n",
       "      <td>260.0</td>\n",
       "      <td>260.000000</td>\n",
       "      <td>258.0</td>\n",
       "    </tr>\n",
       "    <tr>\n",
       "      <th>index</th>\n",
       "      <td>222.0</td>\n",
       "      <td>222.000000</td>\n",
       "      <td>162.0</td>\n",
       "    </tr>\n",
       "    <tr>\n",
       "      <th>model_year</th>\n",
       "      <td>77.0</td>\n",
       "      <td>77.000000</td>\n",
       "      <td>75.0</td>\n",
       "    </tr>\n",
       "    <tr>\n",
       "      <th>mpg</th>\n",
       "      <td>17.0</td>\n",
       "      <td>15.500000</td>\n",
       "      <td>15.0</td>\n",
       "    </tr>\n",
       "    <tr>\n",
       "      <th>weight</th>\n",
       "      <td>4060.0</td>\n",
       "      <td>4065.909838</td>\n",
       "      <td>3730.0</td>\n",
       "    </tr>\n",
       "  </tbody>\n",
       "</table>\n",
       "</div>"
      ],
      "text/plain": [
       "               train        synth    test\n",
       "acceleration    19.0    19.000000    19.0\n",
       "cylinders        8.0     8.000000     6.0\n",
       "displacement   260.0   260.000000   258.0\n",
       "index          222.0   222.000000   162.0\n",
       "model_year      77.0    77.000000    75.0\n",
       "mpg             17.0    15.500000    15.0\n",
       "weight        4060.0  4065.909838  3730.0"
      ]
     },
     "execution_count": 9,
     "metadata": {},
     "output_type": "execute_result"
    }
   ],
   "source": [
    "si.nearest_synth_train_test_record(nearest.iloc[0], synth, train, test)"
   ]
  }
 ],
 "metadata": {
  "kernelspec": {
   "display_name": "Python 3",
   "language": "python",
   "name": "python3"
  },
  "language_info": {
   "codemirror_mode": {
    "name": "ipython",
    "version": 3
   },
   "file_extension": ".py",
   "mimetype": "text/x-python",
   "name": "python",
   "nbconvert_exporter": "python",
   "pygments_lexer": "ipython3",
   "version": "3.6.6"
  }
 },
 "nbformat": 4,
 "nbformat_minor": 2
}
